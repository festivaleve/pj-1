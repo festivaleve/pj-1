{
  "nbformat": 4,
  "nbformat_minor": 0,
  "metadata": {
    "colab": {
      "name": "톨게이트 목록 추출.ipynb",
      "version": "0.3.2",
      "provenance": [],
      "collapsed_sections": []
    },
    "kernelspec": {
      "name": "python3",
      "display_name": "Python 3"
    }
  },
  "cells": [
    {
      "cell_type": "code",
      "metadata": {
        "id": "lu0nX06q9E2O",
        "colab_type": "code",
        "colab": {}
      },
      "source": [
        "import pandas as pd\n",
        "import numpy as np\n",
        "import matplotlib.pyplot as plt\n",
        "from bs4 import BeautifulSoup\n",
        "import requests"
      ],
      "execution_count": 0,
      "outputs": []
    },
    {
      "cell_type": "code",
      "metadata": {
        "id": "gQGkVDSC9P9N",
        "colab_type": "code",
        "colab": {}
      },
      "source": [
        "# 톨게이트 목록\n",
        "key ='보안키'\n",
        "url = 'http://data.ex.co.kr/exopenapi/basicinfo/unitList?serviceKey='+key+'&type=xml&exDivCode=00&numOfRows=20&pageNo=1'"
      ],
      "execution_count": 0,
      "outputs": []
    },
    {
      "cell_type": "code",
      "metadata": {
        "id": "8AfimEU49UHV",
        "colab_type": "code",
        "colab": {}
      },
      "source": [
        "load_name =[]\n",
        "codename= ['00','01','02','08','10','11','18']"
      ],
      "execution_count": 0,
      "outputs": []
    },
    {
      "cell_type": "code",
      "metadata": {
        "id": "vQFijINy9f3_",
        "colab_type": "code",
        "colab": {}
      },
      "source": [
        "for r in codename:\n",
        "  for i in range(1,1+1):\n",
        "    url = 'http://data.ex.co.kr/exopenapi/basicinfo/unitList?serviceKey='+key+'&type=xml&exDivCode='+r+'&numOfRows=50&pageNo='+'%d' % i\n",
        "    res = requests.get(url)\n",
        "    rss = BeautifulSoup(res.text, 'lxml')\n",
        "    html = BeautifulSoup(res.text, 'lxml')\n",
        "    \n",
        "    for load in rss.find_all('data'):\n",
        "      pagesize = load.pagesize.text\n",
        "      pagesize = int(pagesize)\n",
        "    \n",
        "    if pagesize >2:\n",
        "      for i in range(0,pagesize+1):\n",
        "        url = 'http://data.ex.co.kr/exopenapi/basicinfo/unitList?serviceKey='+key+'&type=xml&exDivCode='+r+'&numOfRows=50&pageNo='+'%d' % i\n",
        "        res = requests.get(url)\n",
        "        rss = BeautifulSoup(res.text, 'lxml')\n",
        "        html = BeautifulSoup(res.text, 'lxml')\n",
        "        for load in rss.find_all('unitlists'):\n",
        "          code              = load.exdivcode.text\n",
        "          name             = load.exdivname.text\n",
        "          openClName = load.openclname.text\n",
        "          openClType   = load.opencltype.text\n",
        "          unitcode         = load.unitcode.text\n",
        "          unitname        = load.unitname.text\n",
        "          load_name.append([code,name,openClName,openClType,unitcode,unitname])\n",
        "    else:\n",
        "      for load in rss.find_all('unitlists'):\n",
        "        code              = load.exdivcode.text\n",
        "        name             = load.exdivname.text\n",
        "        openClName = load.openclname.text\n",
        "        openClType   = load.opencltype.text\n",
        "        unitcode         = load.unitcode.text\n",
        "        unitname        = load.unitname.text\n",
        "        load_name.append([code,name,openClName,openClType,unitcode,unitname])"
      ],
      "execution_count": 0,
      "outputs": []
    },
    {
      "cell_type": "code",
      "metadata": {
        "id": "DoAZFuDy9V3X",
        "colab_type": "code",
        "colab": {
          "base_uri": "https://localhost:8080/",
          "height": 32
        },
        "outputId": "319962eb-3152-4620-b59b-052c125c2c25"
      },
      "source": [
        "len(load_name)"
      ],
      "execution_count": 18,
      "outputs": [
        {
          "output_type": "execute_result",
          "data": {
            "text/plain": [
              "928"
            ]
          },
          "metadata": {
            "tags": []
          },
          "execution_count": 18
        }
      ]
    },
    {
      "cell_type": "code",
      "metadata": {
        "id": "u06e-_ge9mHn",
        "colab_type": "code",
        "colab": {}
      },
      "source": [
        "b =pd.DataFrame(load_name)"
      ],
      "execution_count": 0,
      "outputs": []
    },
    {
      "cell_type": "code",
      "metadata": {
        "id": "J5UWrvnb9x5s",
        "colab_type": "code",
        "colab": {}
      },
      "source": [
        "b.to_csv('구분코드.csv',index=False,header=False)"
      ],
      "execution_count": 0,
      "outputs": []
    },
    {
      "cell_type": "code",
      "metadata": {
        "id": "aMXK5_omCckb",
        "colab_type": "code",
        "colab": {}
      },
      "source": [
        "c =pd.read_csv('구분코드.csv',\n",
        "               names=['도공민자구분코드','코드명','개방구분','개방타입코드','영업소코드','영업소명'])"
      ],
      "execution_count": 0,
      "outputs": []
    },
    {
      "cell_type": "code",
      "metadata": {
        "id": "-hCwUp8KCfCV",
        "colab_type": "code",
        "colab": {
          "base_uri": "https://localhost:8080/",
          "height": 65
        },
        "outputId": "d539a2b2-b55b-4940-bc7b-208001cb9397"
      },
      "source": [
        "c['개방구분'].value_counts()"
      ],
      "execution_count": 25,
      "outputs": [
        {
          "output_type": "execute_result",
          "data": {
            "text/plain": [
              "폐쇄    856\n",
              "개방     72\n",
              "Name: 개방구분, dtype: int64"
            ]
          },
          "metadata": {
            "tags": []
          },
          "execution_count": 25
        }
      ]
    },
    {
      "cell_type": "code",
      "metadata": {
        "id": "ro2s3N5m-vTa",
        "colab_type": "code",
        "colab": {}
      },
      "source": [
        "c.to_csv('구분코드.csv', index= False)"
      ],
      "execution_count": 0,
      "outputs": []
    },
    {
      "cell_type": "code",
      "metadata": {
        "id": "ZnlIfAfgBZ2p",
        "colab_type": "code",
        "colab": {}
      },
      "source": [
        "d = pd.read_csv('구분코드.csv')"
      ],
      "execution_count": 0,
      "outputs": []
    }
  ]
}